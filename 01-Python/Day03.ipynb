{
 "cells": [
  {
   "cell_type": "markdown",
   "metadata": {},
   "source": [
    "### 1. 字典 \n",
    "- 1.1 字典的定义\n",
    "- 1.2 访问某个关键值对应的值\n",
    "- 1.3 添加新的键值对\n",
    "- 1.4 修改字典\n",
    "- 1.5 删除字典元素\n",
    "- 1.6 遍历键值对\n",
    "- 1.7 遍历字典中所有的键\n",
    "- 1.8 遍历字典中所有的值\n",
    "- 1.9 列表中有字典\n",
    "- 1.10 字典中有列表\n",
    "- 1.11 字典中有字典"
   ]
  },
  {
   "cell_type": "code",
   "execution_count": 33,
   "metadata": {},
   "outputs": [
    {
     "data": {
      "text/plain": [
       "{'a': 1, 'b': 2, 'c': 3}"
      ]
     },
     "execution_count": 33,
     "metadata": {},
     "output_type": "execute_result"
    }
   ],
   "source": [
    "# 1.1 字典的定义：是一种可变容器，可以储存任意类型对象 形如：d = {key:value}\n",
    "d = {'a':1,'b':2,'c':3}\n",
    "d"
   ]
  },
  {
   "cell_type": "code",
   "execution_count": 34,
   "metadata": {},
   "outputs": [
    {
     "name": "stdout",
     "output_type": "stream",
     "text": [
      "1\n",
      "You just earned 5 points!\n"
     ]
    }
   ],
   "source": [
    "# 1.2 访问某个关键值对应的值 就像访问数组一样，[]内的下标是字典的键值\n",
    "print(d['a'])\n",
    "\n",
    "# 访问外星人alien_0的颜色和点数/如果玩家射杀这个外星人，就可以获得相应的点数\n",
    "alien_0 = {'color':'green','points':5}\n",
    "new_points = alien_0['points']\n",
    "print('You just earned ' + str(new_points) + ' points!')"
   ]
  },
  {
   "cell_type": "code",
   "execution_count": 35,
   "metadata": {},
   "outputs": [
    {
     "name": "stdout",
     "output_type": "stream",
     "text": [
      "添加前的字典: {'a': 1, 'b': 2, 'c': 3}\n",
      "添加后的字典: {'a': 1, 'b': 2, 'c': 3, 'd': 4, 'e': 5}\n"
     ]
    }
   ],
   "source": [
    "# 1.3 添加新的键值对\n",
    "print('添加前的字典:',d)\n",
    "d['d'] = 4\n",
    "d['e'] = 5\n",
    "print('添加后的字典:',d)"
   ]
  },
  {
   "cell_type": "code",
   "execution_count": 36,
   "metadata": {},
   "outputs": [
    {
     "name": "stdout",
     "output_type": "stream",
     "text": [
      "修改前的字典: {'a': 1, 'b': 2, 'c': 3, 'd': 4, 'e': 5}\n",
      "修改后的字典: {'a': 666, 'b': 2, 'c': 3, 'd': 4, 'e': 5}\n"
     ]
    }
   ],
   "source": [
    "# 1.4 修改字典\n",
    "print('修改前的字典:',d)\n",
    "d['a'] = 666\n",
    "print('修改后的字典:',d)"
   ]
  },
  {
   "cell_type": "code",
   "execution_count": 37,
   "metadata": {},
   "outputs": [
    {
     "name": "stdout",
     "output_type": "stream",
     "text": [
      "删除前的字典: {'a': 666, 'b': 2, 'c': 3, 'd': 4, 'e': 5}\n",
      "删除c后的字典 {'a': 666, 'b': 2, 'd': 4, 'e': 5}\n",
      "清空所有条目后的字典: {}\n"
     ]
    }
   ],
   "source": [
    "# 1.5 删除字典元素 del\n",
    "print('删除前的字典:',d)\n",
    "# 删除元素c\n",
    "del d['c']\n",
    "print('删除c后的字典',d)\n",
    "# 清空所有条目\n",
    "d.clear()\n",
    "print('清空所有条目后的字典:',d)"
   ]
  },
  {
   "cell_type": "code",
   "execution_count": 40,
   "metadata": {},
   "outputs": [
    {
     "name": "stdout",
     "output_type": "stream",
     "text": [
      "\n",
      "key: username\n",
      "\n",
      "value sbzz\n",
      "\n",
      "key: first\n",
      "\n",
      "value sb\n",
      "\n",
      "key: last\n",
      "\n",
      "value zz\n"
     ]
    }
   ],
   "source": [
    "# 1.6 遍历键值对\n",
    "user = {'username':'sbzz','first':'sb','last':'zz'}\n",
    "# 用 for key,value in xx.items():\n",
    "for k,v in user.items():\n",
    "    print('\\nkey:',k)\n",
    "    print('\\nvalue',v)"
   ]
  },
  {
   "cell_type": "code",
   "execution_count": 42,
   "metadata": {},
   "outputs": [
    {
     "name": "stdout",
     "output_type": "stream",
     "text": [
      "username\n",
      "first\n",
      "last\n",
      "----------\n",
      "first\n",
      "last\n",
      "username\n"
     ]
    }
   ],
   "source": [
    "# 1.7 遍历字典中所有的键\n",
    "# for key in xx.keys():\n",
    "for k in user.keys():\n",
    "    print(k)\n",
    "\n",
    "print('----------')\n",
    "\n",
    "# 按顺序遍历字典中所有的键 sorted()\n",
    "for k in sorted(user.keys()):\n",
    "    print(k)"
   ]
  },
  {
   "cell_type": "code",
   "execution_count": 43,
   "metadata": {},
   "outputs": [
    {
     "name": "stdout",
     "output_type": "stream",
     "text": [
      "sbzz\n",
      "sb\n",
      "zz\n"
     ]
    }
   ],
   "source": [
    "# 1.8 遍历字典中所有的值\n",
    "# for value in xx.values():\n",
    "for v in user.values():\n",
    "    print(v)"
   ]
  },
  {
   "cell_type": "code",
   "execution_count": 46,
   "metadata": {},
   "outputs": [
    {
     "name": "stdout",
     "output_type": "stream",
     "text": [
      "{'color': 'green', 'point': 5}\n",
      "{'color': 'red', 'point': 3}\n",
      "{'color': 'yellow', 'point': 2}\n"
     ]
    }
   ],
   "source": [
    "# 1.9 列表中有字典\n",
    "# 每个外星人用字典表示它的各种属性，用一个大的列表扩起来，组成一个外星人列表\n",
    "alien_0 = {'color':'green','point':5}\n",
    "alien_1 = {'color':'red','point':3}\n",
    "alien_2 = {'color':'yellow','point':2}\n",
    "\n",
    "aliens = [alien_0,alien_1,alien_2]\n",
    "\n",
    "# 遍历\n",
    "for alien in aliens:\n",
    "    print(alien)"
   ]
  },
  {
   "cell_type": "code",
   "execution_count": 49,
   "metadata": {},
   "outputs": [
    {
     "name": "stdout",
     "output_type": "stream",
     "text": [
      "\n",
      "Sb's favorite languages are:\n",
      "\tPython\n",
      "\tC++\n",
      "\n",
      "Zz's favorite languages are:\n",
      "\tJava\n",
      "\tPhp\n"
     ]
    }
   ],
   "source": [
    "# 1.10 字典中有列表\n",
    "# 人和自己喜欢的编程语言是一个键值对，喜欢的语言不止一种，可以有多种语言构成一个列表\n",
    "favorite_languages = {\n",
    "    'sb':['python','c++'],\n",
    "    'zz':['java','php']\n",
    "}\n",
    "for name,languages in favorite_languages.items():\n",
    "    print('\\n' + name.title() + '\\'s favorite languages are:')\n",
    "    for language in languages:\n",
    "          print('\\t'+language.title())"
   ]
  },
  {
   "cell_type": "code",
   "execution_count": 51,
   "metadata": {},
   "outputs": [
    {
     "name": "stdout",
     "output_type": "stream",
     "text": [
      "\n",
      "Username:aeinstein\n",
      "Full name:Albert Einstein\n",
      "\n",
      "Username:mcurie\n",
      "Full name:Marie Curie\n"
     ]
    }
   ],
   "source": [
    "# 1.11 字典中有字典\n",
    "# 有很多的用户 每个用户有first name和last name ，所以用户是一个大的字典，每个小字典是{名字：全名}\n",
    "user = {\n",
    "    'aeinstein':{\n",
    "        'first':'albert',\n",
    "        'last':'einstein'\n",
    "    },\n",
    "    'mcurie':{\n",
    "        'first':'marie',\n",
    "        'last':'curie'\n",
    "    },\n",
    "}\n",
    "\n",
    "for username,fullname in user.items():\n",
    "    print('\\nUsername:'+username)\n",
    "    full_name = fullname['first'] + ' ' + fullname['last']\n",
    "    print('Full name:' + full_name.title())"
   ]
  },
  {
   "cell_type": "markdown",
   "metadata": {},
   "source": [
    "###  2. Set\n",
    "- 2.1 建立一个set\n",
    "- 2.2 重复元素自动过滤\n",
    "- 2.3 添加元素 add()\n",
    "- 2.4 删除元素 remove()"
   ]
  },
  {
   "cell_type": "code",
   "execution_count": 52,
   "metadata": {},
   "outputs": [
    {
     "data": {
      "text/plain": [
       "{1, 2, 3}"
      ]
     },
     "execution_count": 52,
     "metadata": {},
     "output_type": "execute_result"
    }
   ],
   "source": [
    "# 2.1 建立一个set\n",
    "# set和dict类似，但只有key没有value，并且key不能重复\n",
    "s = set([1,2,3])\n",
    "s"
   ]
  },
  {
   "cell_type": "code",
   "execution_count": 53,
   "metadata": {},
   "outputs": [
    {
     "data": {
      "text/plain": [
       "{1, 2, 3}"
      ]
     },
     "execution_count": 53,
     "metadata": {},
     "output_type": "execute_result"
    }
   ],
   "source": [
    "# 2.2 重复元素自动过滤\n",
    "# 传入的是列表\n",
    "s = set([1,1,1,2,2,3,3,3,3])\n",
    "s"
   ]
  },
  {
   "cell_type": "code",
   "execution_count": 54,
   "metadata": {},
   "outputs": [
    {
     "data": {
      "text/plain": [
       "{1, 2, 3, 4}"
      ]
     },
     "execution_count": 54,
     "metadata": {},
     "output_type": "execute_result"
    }
   ],
   "source": [
    "# 2.3 添加元素 add()函数\n",
    "s.add(4)\n",
    "s"
   ]
  },
  {
   "cell_type": "code",
   "execution_count": 55,
   "metadata": {},
   "outputs": [
    {
     "data": {
      "text/plain": [
       "{1, 2, 3}"
      ]
     },
     "execution_count": 55,
     "metadata": {},
     "output_type": "execute_result"
    }
   ],
   "source": [
    "# 2.4 删除元素 remove()函数\n",
    "s.remove(4)\n",
    "s"
   ]
  }
 ],
 "metadata": {
  "kernelspec": {
   "display_name": "Python 3",
   "language": "python",
   "name": "python3"
  },
  "language_info": {
   "codemirror_mode": {
    "name": "ipython",
    "version": 3
   },
   "file_extension": ".py",
   "mimetype": "text/x-python",
   "name": "python",
   "nbconvert_exporter": "python",
   "pygments_lexer": "ipython3",
   "version": "3.7.3"
  }
 },
 "nbformat": 4,
 "nbformat_minor": 2
}
