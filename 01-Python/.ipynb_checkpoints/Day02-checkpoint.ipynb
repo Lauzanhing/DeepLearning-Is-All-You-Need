{
 "cells": [
  {
   "cell_type": "markdown",
   "metadata": {},
   "source": [
    "### 1. 列表 \n",
    "- 1.1 访问列表中的值\n",
    "- 1.2 修改/删除/添加元素\n",
    "- 1.3 列表中的常用操作\n",
    "- 1.4 列表中的常用函数"
   ]
  },
  {
   "cell_type": "code",
   "execution_count": 17,
   "metadata": {},
   "outputs": [
    {
     "name": "stdout",
     "output_type": "stream",
     "text": [
      "访问列表中的第一个值: Tim\n",
      "----------\n",
      "访问列表中的第一个值: ['Kris', 'Sam']\n",
      "----------\n",
      "访问所有值: ['Tim', 'Kris', 'Sam']\n",
      "----------\n",
      "访问倒数第一个: Sam\n"
     ]
    }
   ],
   "source": [
    "# 1.1 访问列表中的值 索引从0开始\n",
    "name = ['Tim','Kris','Sam']\n",
    "\n",
    "# 1.1.1 访问列表中的第一个值\n",
    "print('访问列表中的第一个值:',name[0])\n",
    "print('----------')\n",
    "\n",
    "# 1.1.2 访问第二个以后所有值\n",
    "print('访问列表中的第一个值:',name[1:])\n",
    "print('----------')\n",
    "\n",
    "# 1.1.3 访问所有值\n",
    "print('访问所有值:',name)\n",
    "print('----------')\n",
    "\n",
    "# 1.1.4 访问倒数第一个\n",
    "print('访问倒数第一个:',name[-1])"
   ]
  },
  {
   "cell_type": "code",
   "execution_count": 18,
   "metadata": {},
   "outputs": [
    {
     "name": "stdout",
     "output_type": "stream",
     "text": [
      "修改第3个位置的元素后: sb\n",
      "----------\n",
      "删除元素前： ['Tim', 'Kris', 'sb']\n",
      "删除第2个元素后: ['Tim', 'sb']\n",
      "----------\n",
      "删除元素前： ['Tim', 'sb']\n",
      "删除最后一个元素后: ['Tim']\n",
      "----------\n",
      "添加元素前: ['Tim']\n",
      "在第1个位置添加元素后: ['Tim', 'Kris']\n",
      "----------\n",
      "添加元素前: ['Tim', 'Kris']\n",
      "添加在最后一个位置后: ['Tim', 'Kris', 'Sam']\n"
     ]
    }
   ],
   "source": [
    "# 1.2 修改/删除/添加元素\n",
    "\n",
    "# 1.2.1 修改元素\n",
    "name[2] = 'sb'\n",
    "print('修改第3个位置的元素后:',name[2])\n",
    "print('----------')\n",
    "\n",
    "# 1.2.2 删除元素\n",
    "# 删除任意位置的元素 del()函数\n",
    "\n",
    "print('删除元素前：',name)\n",
    "del name[1]\n",
    "print('删除第2个元素后:',name)\n",
    "print('----------')\n",
    "\n",
    "# 删除最后一个元素 pop()函数\n",
    "print('删除元素前：',name)\n",
    "name.pop()\n",
    "print('删除最后一个元素后:',name)\n",
    "print('----------')\n",
    "\n",
    "# 1.2.3 添加元素\n",
    "# 在任意位置添加元素 insert()函数\n",
    "print('添加元素前:',name)\n",
    "name.insert(1,'Kris')\n",
    "print('在第1个位置添加元素后:',name)\n",
    "print('----------')\n",
    "\n",
    "# 在最后一个位置添加元素 append()函数\n",
    "print('添加元素前:',name)\n",
    "name.append('Sam')\n",
    "print('添加在最后一个位置后:',name)"
   ]
  },
  {
   "cell_type": "code",
   "execution_count": 23,
   "metadata": {},
   "outputs": [
    {
     "name": "stdout",
     "output_type": "stream",
     "text": [
      "两个列表相加后: [1, 2, 3, 4, 5, 6]\n",
      "列表所有元素x3: [1, 1, 1]\n",
      "2是不是list1的元素: True\n",
      "1\n",
      "2\n",
      "3\n"
     ]
    }
   ],
   "source": [
    "# 1.3 列表中的常用操作\n",
    "list1 = [1,2,3]\n",
    "list2 = [4,5,6]\n",
    "list3 = [1]\n",
    "\n",
    "# 列表的+操作\n",
    "print(\"两个列表相加后:\",list1+list2)\n",
    "\n",
    "# 列表的*操作\n",
    "print('列表所有元素x3:',list3*3)\n",
    "\n",
    "# 列表的in， 判断元素是否在列表中\n",
    "print('2是不是list1的元素:',2 in list1)\n",
    "\n",
    "# for ... in 列表的遍历\n",
    "for x in list1:\n",
    "    print(x)"
   ]
  },
  {
   "cell_type": "code",
   "execution_count": 34,
   "metadata": {},
   "outputs": [
    {
     "name": "stdout",
     "output_type": "stream",
     "text": [
      "输出函数长度: 3\n",
      "----------\n",
      "列表中的最大值: 3\n",
      "----------\n",
      "列表中的最小值: 1\n",
      "排序后的list4: [1, 2, 3, 5]\n",
      "----------\n",
      "暂时排序的结果: [1, 2, 3, 5, 6]\n",
      "排序后原列表: [3, 5, 2, 6, 1]\n",
      "暂时逆序排序的结果: [6, 5, 3, 2, 1]\n"
     ]
    }
   ],
   "source": [
    "# 1.4 列表中常用的函数\n",
    "\n",
    "# 获得列表的长度 len()函数\n",
    "print('输出函数长度:',len(list1))\n",
    "print('----------')\n",
    "\n",
    "# 获得列表中的最大值 max()函数\n",
    "print('列表中的最大值:',max(list1))\n",
    "print('----------')\n",
    "\n",
    "# 获得列表中的最小值 min()函数\n",
    "print('列表中的最小值:',min(list1))\n",
    "\n",
    "# 永久排序方法 sort()\n",
    "list4 = [2,3,1,5]\n",
    "list4.sort()\n",
    "print('排序后的list4:',list4)\n",
    "print('----------')\n",
    "\n",
    "# 暂时排序方法 sorted()\n",
    "list5 = [3,5,2,6,1]\n",
    "print('暂时排序的结果:',sorted(list5))\n",
    "print('排序后原列表:',list5)\n",
    "\n",
    "# reverse=True参数 逆序排序\n",
    "print('暂时逆序排序的结果:',sorted(list5,reverse=True))"
   ]
  },
  {
   "cell_type": "markdown",
   "metadata": {},
   "source": [
    "### 2. 元组 \n",
    "- 2.1 定义元组\n",
    "- 2.2 访问/修改/删除元组"
   ]
  },
  {
   "cell_type": "code",
   "execution_count": 38,
   "metadata": {},
   "outputs": [
    {
     "name": "stdout",
     "output_type": "stream",
     "text": [
      "(1, 2)\n",
      "()\n"
     ]
    }
   ],
   "source": [
    "# 2.1 定义元组\n",
    "t = (1,2)\n",
    "print(t)\n",
    "\n",
    "# 空元组\n",
    "p = ()\n",
    "print(p)"
   ]
  },
  {
   "cell_type": "code",
   "execution_count": 36,
   "metadata": {},
   "outputs": [
    {
     "ename": "TypeError",
     "evalue": "'tuple' object does not support item assignment",
     "output_type": "error",
     "traceback": [
      "\u001b[0;31m---------------------------------------------------------------------------\u001b[0m",
      "\u001b[0;31mTypeError\u001b[0m                                 Traceback (most recent call last)",
      "\u001b[0;32m<ipython-input-36-285326e454bd>\u001b[0m in \u001b[0;36m<module>\u001b[0;34m\u001b[0m\n\u001b[1;32m      1\u001b[0m \u001b[0;31m# 元组是不可修改的\u001b[0m\u001b[0;34m\u001b[0m\u001b[0;34m\u001b[0m\u001b[0;34m\u001b[0m\u001b[0m\n\u001b[0;32m----> 2\u001b[0;31m \u001b[0mt\u001b[0m\u001b[0;34m[\u001b[0m\u001b[0;36m0\u001b[0m\u001b[0;34m]\u001b[0m \u001b[0;34m=\u001b[0m \u001b[0;36m2\u001b[0m\u001b[0;34m\u001b[0m\u001b[0;34m\u001b[0m\u001b[0m\n\u001b[0m",
      "\u001b[0;31mTypeError\u001b[0m: 'tuple' object does not support item assignment"
     ]
    }
   ],
   "source": [
    "# 元组是不可修改的\n",
    "t[0] = 2"
   ]
  },
  {
   "cell_type": "code",
   "execution_count": 42,
   "metadata": {},
   "outputs": [
    {
     "name": "stdout",
     "output_type": "stream",
     "text": [
      "访问第一个元素: 1\n",
      "拼接两个元组: (1, 2, 3, 4, 5)\n",
      "---------\n"
     ]
    },
    {
     "ename": "NameError",
     "evalue": "name 't3' is not defined",
     "output_type": "error",
     "traceback": [
      "\u001b[0;31m---------------------------------------------------------------------------\u001b[0m",
      "\u001b[0;31mNameError\u001b[0m                                 Traceback (most recent call last)",
      "\u001b[0;32m<ipython-input-42-580562c0dbc5>\u001b[0m in \u001b[0;36m<module>\u001b[0;34m\u001b[0m\n\u001b[1;32m     11\u001b[0m \u001b[0;34m\u001b[0m\u001b[0m\n\u001b[1;32m     12\u001b[0m \u001b[0;31m# 删除\u001b[0m\u001b[0;34m\u001b[0m\u001b[0;34m\u001b[0m\u001b[0;34m\u001b[0m\u001b[0m\n\u001b[0;32m---> 13\u001b[0;31m \u001b[0mprint\u001b[0m\u001b[0;34m(\u001b[0m\u001b[0;34m't3删除前:'\u001b[0m\u001b[0;34m,\u001b[0m\u001b[0mt3\u001b[0m\u001b[0;34m)\u001b[0m\u001b[0;34m\u001b[0m\u001b[0;34m\u001b[0m\u001b[0m\n\u001b[0m\u001b[1;32m     14\u001b[0m \u001b[0;32mdel\u001b[0m \u001b[0mt3\u001b[0m\u001b[0;34m\u001b[0m\u001b[0;34m\u001b[0m\u001b[0m\n\u001b[1;32m     15\u001b[0m \u001b[0mprint\u001b[0m\u001b[0;34m(\u001b[0m\u001b[0;34m't3删除后：'\u001b[0m\u001b[0;34m,\u001b[0m\u001b[0mt3\u001b[0m\u001b[0;34m)\u001b[0m\u001b[0;34m\u001b[0m\u001b[0;34m\u001b[0m\u001b[0m\n",
      "\u001b[0;31mNameError\u001b[0m: name 't3' is not defined"
     ]
    }
   ],
   "source": [
    "# 2.2 访问/修改/删除元组\n",
    "\n",
    "# 访问\n",
    "print('访问第一个元素:',t[0])\n",
    "\n",
    "# 修改是非法的 但是可以创建新的元组\n",
    "t1 = (1,2,3)\n",
    "t2 = (4,5)\n",
    "print('拼接两个元组:',t1+t2)\n",
    "print('---------')\n",
    "\n",
    "# 删除\n",
    "print('t3删除前:',t3)\n",
    "del t3\n",
    "# 删除后 就不存在了\n",
    "print('t3删除后：',t3)"
   ]
  }
 ],
 "metadata": {
  "kernelspec": {
   "display_name": "Python 3",
   "language": "python",
   "name": "python3"
  },
  "language_info": {
   "codemirror_mode": {
    "name": "ipython",
    "version": 3
   },
   "file_extension": ".py",
   "mimetype": "text/x-python",
   "name": "python",
   "nbconvert_exporter": "python",
   "pygments_lexer": "ipython3",
   "version": "3.7.3"
  }
 },
 "nbformat": 4,
 "nbformat_minor": 2
}
