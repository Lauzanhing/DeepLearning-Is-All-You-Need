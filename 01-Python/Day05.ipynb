{
 "cells": [
  {
   "cell_type": "markdown",
   "metadata": {},
   "source": [
    "### 1. 调用函数\n",
    "- 1.1 单参数函数\n",
    "- 1.2 多参数函数\n",
    "- 1.3 类型转换函数\n",
    "- 1.4 函数名是指向一个函数对象的引用"
   ]
  },
  {
   "cell_type": "code",
   "execution_count": 2,
   "metadata": {},
   "outputs": [
    {
     "name": "stdout",
     "output_type": "stream",
     "text": [
      "100\n",
      "20\n"
     ]
    }
   ],
   "source": [
    "# 调用函数\n",
    "# 知道函数名和参数，就可以调用一个函数\n",
    "# 1.1 单参数函数\n",
    "print(abs(100))\n",
    "print(abs(-20))"
   ]
  },
  {
   "cell_type": "code",
   "execution_count": 3,
   "metadata": {},
   "outputs": [
    {
     "data": {
      "text/plain": [
       "3"
      ]
     },
     "execution_count": 3,
     "metadata": {},
     "output_type": "execute_result"
    }
   ],
   "source": [
    "# 1.2 多参数函数 max(x,y,z)比较数值大小\n",
    "max(1,2,3)"
   ]
  },
  {
   "cell_type": "code",
   "execution_count": 15,
   "metadata": {},
   "outputs": [
    {
     "name": "stdout",
     "output_type": "stream",
     "text": [
      "原类型是： <class 'str'>\n",
      "转化结果： 123\n",
      "当前类型是: <class 'int'>\n",
      "----------\n",
      "原类型是： <class 'float'>\n",
      "转化结果： 12\n",
      "当前类型是: <class 'int'>\n",
      "----------\n",
      "原类型是： <class 'str'>\n",
      "转化结果： 12.34\n",
      "当前类型是: <class 'float'>\n",
      "----------\n",
      "原类型是： <class 'float'>\n",
      "转化结果： 1.23\n",
      "当前类型是: <class 'str'>\n",
      "----------\n",
      "原类型是： <class 'int'>\n",
      "转化结果： 100\n",
      "当前类型是: <class 'str'>\n",
      "----------\n",
      "原类型是： <class 'int'>\n",
      "转化结果： True\n",
      "当前类型是: <class 'bool'>\n",
      "----------\n"
     ]
    }
   ],
   "source": [
    "# 1.3 类型转换函数 int() float() str() bool()\n",
    "\n",
    "# str转int\n",
    "a = '123'\n",
    "print('原类型是：',type(a))\n",
    "print('转化结果：',int(a))\n",
    "print('当前类型是:',type(int(a)))\n",
    "print('----------')\n",
    "# float转int\n",
    "b = 12.34\n",
    "print('原类型是：',type(b))\n",
    "print('转化结果：',int(b))\n",
    "print('当前类型是:',type(int(b)))\n",
    "print('----------')\n",
    "# str转float\n",
    "c = '12.34'\n",
    "print('原类型是：',type(c))\n",
    "print('转化结果：',float(c))\n",
    "print('当前类型是:',type(float(c)))\n",
    "print('----------')\n",
    "# float转str\n",
    "d = 1.23\n",
    "print('原类型是：',type(d))\n",
    "print('转化结果：',str(d))\n",
    "print('当前类型是:',type(str(d)))\n",
    "print('----------')\n",
    "# int转str\n",
    "e = 100\n",
    "print('原类型是：',type(e))\n",
    "print('转化结果：',str(e))\n",
    "print('当前类型是:',type(str(e)))\n",
    "print('----------')\n",
    "# int转bool\n",
    "f = 1\n",
    "print('原类型是：',type(f))\n",
    "print('转化结果：',bool(f))\n",
    "print('当前类型是:',type(bool(f)))\n",
    "print('----------')"
   ]
  },
  {
   "cell_type": "code",
   "execution_count": 16,
   "metadata": {},
   "outputs": [
    {
     "data": {
      "text/plain": [
       "1"
      ]
     },
     "execution_count": 16,
     "metadata": {},
     "output_type": "execute_result"
    }
   ],
   "source": [
    "# 1.4 函数名是指向一个函数对象的引用\n",
    "# 不传参数 a现在变成了函数abs\n",
    "a = abs\n",
    "a(-1)"
   ]
  },
  {
   "cell_type": "markdown",
   "metadata": {},
   "source": [
    "### 2. 定义函数\n",
    "- 2.1 定义函数结构\n",
    "- 2.2 空函数\n",
    "- 2.3 参数检查\n",
    "- 2.4 多个返回值"
   ]
  },
  {
   "cell_type": "code",
   "execution_count": 17,
   "metadata": {},
   "outputs": [
    {
     "name": "stdout",
     "output_type": "stream",
     "text": [
      "5\n"
     ]
    }
   ],
   "source": [
    "# 2.1 def + 函数名 + (参数) + :\n",
    "# 自己写一个绝对值的函数\n",
    "def my_abs(x):\n",
    "    if x >= 0:\n",
    "        return x\n",
    "    else:\n",
    "        return -x\n",
    "    \n",
    "# 测试我们写的函数\n",
    "print(my_abs(-5))"
   ]
  },
  {
   "cell_type": "code",
   "execution_count": 18,
   "metadata": {},
   "outputs": [],
   "source": [
    "# 2.2 空函数 什么事情都不做\n",
    "def nothing():\n",
    "    pass"
   ]
  },
  {
   "cell_type": "code",
   "execution_count": 19,
   "metadata": {},
   "outputs": [
    {
     "ename": "TypeError",
     "evalue": "my_abs() takes 1 positional argument but 2 were given",
     "output_type": "error",
     "traceback": [
      "\u001b[0;31m---------------------------------------------------------------------------\u001b[0m",
      "\u001b[0;31mTypeError\u001b[0m                                 Traceback (most recent call last)",
      "\u001b[0;32m<ipython-input-19-3616ca17ef8b>\u001b[0m in \u001b[0;36m<module>\u001b[0;34m\u001b[0m\n\u001b[1;32m      1\u001b[0m \u001b[0;31m# 2.3 参数检查\u001b[0m\u001b[0;34m\u001b[0m\u001b[0;34m\u001b[0m\u001b[0;34m\u001b[0m\u001b[0m\n\u001b[1;32m      2\u001b[0m \u001b[0;31m# 调用函数的时候，如果参数不对，Python解释器会自动检查，抛出TypeError\u001b[0m\u001b[0;34m\u001b[0m\u001b[0;34m\u001b[0m\u001b[0;34m\u001b[0m\u001b[0m\n\u001b[0;32m----> 3\u001b[0;31m \u001b[0mmy_abs\u001b[0m\u001b[0;34m(\u001b[0m\u001b[0;36m1\u001b[0m\u001b[0;34m,\u001b[0m\u001b[0;36m2\u001b[0m\u001b[0;34m)\u001b[0m\u001b[0;34m\u001b[0m\u001b[0;34m\u001b[0m\u001b[0m\n\u001b[0m",
      "\u001b[0;31mTypeError\u001b[0m: my_abs() takes 1 positional argument but 2 were given"
     ]
    }
   ],
   "source": [
    "# 2.3 参数检查\n",
    "# 调用函数的时候，如果参数不对，Python解释器会自动检查，抛出TypeError\n",
    "my_abs(1,2)"
   ]
  },
  {
   "cell_type": "code",
   "execution_count": 20,
   "metadata": {},
   "outputs": [
    {
     "ename": "TypeError",
     "evalue": "'>=' not supported between instances of 'str' and 'int'",
     "output_type": "error",
     "traceback": [
      "\u001b[0;31m---------------------------------------------------------------------------\u001b[0m",
      "\u001b[0;31mTypeError\u001b[0m                                 Traceback (most recent call last)",
      "\u001b[0;32m<ipython-input-20-eb59e2a01a7e>\u001b[0m in \u001b[0;36m<module>\u001b[0;34m\u001b[0m\n\u001b[1;32m      1\u001b[0m \u001b[0;31m# 但是如果参数的类型不对，Python的解释器是无法帮我们检查到的\u001b[0m\u001b[0;34m\u001b[0m\u001b[0;34m\u001b[0m\u001b[0;34m\u001b[0m\u001b[0m\n\u001b[0;32m----> 2\u001b[0;31m \u001b[0mmy_abs\u001b[0m\u001b[0;34m(\u001b[0m\u001b[0;34m'a'\u001b[0m\u001b[0;34m)\u001b[0m\u001b[0;34m\u001b[0m\u001b[0;34m\u001b[0m\u001b[0m\n\u001b[0m",
      "\u001b[0;32m<ipython-input-17-eda6ea39cb33>\u001b[0m in \u001b[0;36mmy_abs\u001b[0;34m(x)\u001b[0m\n\u001b[1;32m      2\u001b[0m \u001b[0;31m# 自己写一个绝对值的函数\u001b[0m\u001b[0;34m\u001b[0m\u001b[0;34m\u001b[0m\u001b[0;34m\u001b[0m\u001b[0m\n\u001b[1;32m      3\u001b[0m \u001b[0;32mdef\u001b[0m \u001b[0mmy_abs\u001b[0m\u001b[0;34m(\u001b[0m\u001b[0mx\u001b[0m\u001b[0;34m)\u001b[0m\u001b[0;34m:\u001b[0m\u001b[0;34m\u001b[0m\u001b[0;34m\u001b[0m\u001b[0m\n\u001b[0;32m----> 4\u001b[0;31m     \u001b[0;32mif\u001b[0m \u001b[0mx\u001b[0m \u001b[0;34m>=\u001b[0m \u001b[0;36m0\u001b[0m\u001b[0;34m:\u001b[0m\u001b[0;34m\u001b[0m\u001b[0;34m\u001b[0m\u001b[0m\n\u001b[0m\u001b[1;32m      5\u001b[0m         \u001b[0;32mreturn\u001b[0m \u001b[0mx\u001b[0m\u001b[0;34m\u001b[0m\u001b[0;34m\u001b[0m\u001b[0m\n\u001b[1;32m      6\u001b[0m     \u001b[0;32melse\u001b[0m\u001b[0;34m:\u001b[0m\u001b[0;34m\u001b[0m\u001b[0;34m\u001b[0m\u001b[0m\n",
      "\u001b[0;31mTypeError\u001b[0m: '>=' not supported between instances of 'str' and 'int'"
     ]
    }
   ],
   "source": [
    "# 但是如果参数的类型不对，Python的解释器是无法帮我们检查到的\n",
    "my_abs('a')"
   ]
  },
  {
   "cell_type": "code",
   "execution_count": 21,
   "metadata": {},
   "outputs": [
    {
     "ename": "TypeError",
     "evalue": "bad operand type",
     "output_type": "error",
     "traceback": [
      "\u001b[0;31m---------------------------------------------------------------------------\u001b[0m",
      "\u001b[0;31mTypeError\u001b[0m                                 Traceback (most recent call last)",
      "\u001b[0;32m<ipython-input-21-ab4d48301958>\u001b[0m in \u001b[0;36m<module>\u001b[0;34m\u001b[0m\n\u001b[1;32m      7\u001b[0m     \u001b[0;32melse\u001b[0m\u001b[0;34m:\u001b[0m\u001b[0;34m\u001b[0m\u001b[0;34m\u001b[0m\u001b[0m\n\u001b[1;32m      8\u001b[0m         \u001b[0;32mreturn\u001b[0m \u001b[0;34m-\u001b[0m\u001b[0mx\u001b[0m\u001b[0;34m\u001b[0m\u001b[0;34m\u001b[0m\u001b[0m\n\u001b[0;32m----> 9\u001b[0;31m \u001b[0mprint\u001b[0m\u001b[0;34m(\u001b[0m\u001b[0mmy_abs\u001b[0m\u001b[0;34m(\u001b[0m\u001b[0;34m'a'\u001b[0m\u001b[0;34m)\u001b[0m\u001b[0;34m)\u001b[0m\u001b[0;34m\u001b[0m\u001b[0;34m\u001b[0m\u001b[0m\n\u001b[0m",
      "\u001b[0;32m<ipython-input-21-ab4d48301958>\u001b[0m in \u001b[0;36mmy_abs\u001b[0;34m(x)\u001b[0m\n\u001b[1;32m      2\u001b[0m \u001b[0;32mdef\u001b[0m \u001b[0mmy_abs\u001b[0m\u001b[0;34m(\u001b[0m\u001b[0mx\u001b[0m\u001b[0;34m)\u001b[0m\u001b[0;34m:\u001b[0m\u001b[0;34m\u001b[0m\u001b[0;34m\u001b[0m\u001b[0m\n\u001b[1;32m      3\u001b[0m     \u001b[0;32mif\u001b[0m \u001b[0;32mnot\u001b[0m \u001b[0misinstance\u001b[0m\u001b[0;34m(\u001b[0m\u001b[0mx\u001b[0m\u001b[0;34m,\u001b[0m\u001b[0;34m(\u001b[0m\u001b[0mint\u001b[0m\u001b[0;34m,\u001b[0m\u001b[0mfloat\u001b[0m\u001b[0;34m)\u001b[0m\u001b[0;34m)\u001b[0m\u001b[0;34m:\u001b[0m\u001b[0;34m\u001b[0m\u001b[0;34m\u001b[0m\u001b[0m\n\u001b[0;32m----> 4\u001b[0;31m         \u001b[0;32mraise\u001b[0m \u001b[0mTypeError\u001b[0m\u001b[0;34m(\u001b[0m\u001b[0;34m'bad operand type'\u001b[0m\u001b[0;34m)\u001b[0m\u001b[0;34m\u001b[0m\u001b[0;34m\u001b[0m\u001b[0m\n\u001b[0m\u001b[1;32m      5\u001b[0m     \u001b[0;32mif\u001b[0m \u001b[0mx\u001b[0m\u001b[0;34m>=\u001b[0m \u001b[0;36m0\u001b[0m\u001b[0;34m:\u001b[0m\u001b[0;34m\u001b[0m\u001b[0;34m\u001b[0m\u001b[0m\n\u001b[1;32m      6\u001b[0m         \u001b[0;32mreturn\u001b[0m \u001b[0mx\u001b[0m\u001b[0;34m\u001b[0m\u001b[0;34m\u001b[0m\u001b[0m\n",
      "\u001b[0;31mTypeError\u001b[0m: bad operand type"
     ]
    }
   ],
   "source": [
    "# 可以用isinstance()进行数据类型的检查\n",
    "def my_abs(x):\n",
    "    if not isinstance(x,(int,float)):\n",
    "        raise TypeError('bad operand type')\n",
    "    if x>= 0:\n",
    "        return x\n",
    "    else:\n",
    "        return -x\n",
    "print(my_abs('a'))"
   ]
  },
  {
   "cell_type": "code",
   "execution_count": 25,
   "metadata": {},
   "outputs": [
    {
     "name": "stdout",
     "output_type": "stream",
     "text": [
      "位移后 x,y: (151.96152422706632, 70.0)\n"
     ]
    }
   ],
   "source": [
    "# 2.4 返回多个值\n",
    "# 比如在游戏中，给出坐标，位移和角度，计算新的坐标值\n",
    "import math\n",
    "def move(x,y,step,angle=0):\n",
    "    nx = x + step*math.cos(angle)\n",
    "    ny = y - step*math.sin(angle)\n",
    "    return nx,ny\n",
    "r = move(100,100,60,math.pi/6)\n",
    "print('位移后','x,y:',r)"
   ]
  },
  {
   "cell_type": "markdown",
   "metadata": {},
   "source": [
    "### 3.函数的参数"
   ]
  },
  {
   "cell_type": "code",
   "execution_count": 26,
   "metadata": {},
   "outputs": [
    {
     "data": {
      "text/plain": [
       "25"
      ]
     },
     "execution_count": 26,
     "metadata": {},
     "output_type": "execute_result"
    }
   ],
   "source": [
    "# 3.1 位置参数\n",
    "# 对于power()函数，x就是一个位置参数，必须传入有且只有一个参数x\n",
    "def power(x):\n",
    "    return x*x\n",
    "power(5)"
   ]
  },
  {
   "cell_type": "code",
   "execution_count": 28,
   "metadata": {},
   "outputs": [
    {
     "name": "stdout",
     "output_type": "stream",
     "text": [
      "5的平方： 25\n",
      "5的立方： 125\n"
     ]
    }
   ],
   "source": [
    "# 改进power函数让他可以计算任意次方，x/n都是位置参数\n",
    "def power(x,n):\n",
    "    s = 1\n",
    "    while n > 0:\n",
    "        n = n-1\n",
    "        s = s*x\n",
    "    return s\n",
    "print('5的平方：',power(5,2))\n",
    "print('5的立方：',power(5,3))"
   ]
  },
  {
   "cell_type": "code",
   "execution_count": 29,
   "metadata": {},
   "outputs": [
    {
     "ename": "TypeError",
     "evalue": "power() missing 1 required positional argument: 'n'",
     "output_type": "error",
     "traceback": [
      "\u001b[0;31m---------------------------------------------------------------------------\u001b[0m",
      "\u001b[0;31mTypeError\u001b[0m                                 Traceback (most recent call last)",
      "\u001b[0;32m<ipython-input-29-e66b93d68cb6>\u001b[0m in \u001b[0;36m<module>\u001b[0;34m\u001b[0m\n\u001b[1;32m      1\u001b[0m \u001b[0;31m# 3.2 默认参数\u001b[0m\u001b[0;34m\u001b[0m\u001b[0;34m\u001b[0m\u001b[0;34m\u001b[0m\u001b[0m\n\u001b[1;32m      2\u001b[0m \u001b[0;31m# 这时如果对power函数只输入x的值，会报错告诉我们缺少n的值\u001b[0m\u001b[0;34m\u001b[0m\u001b[0;34m\u001b[0m\u001b[0;34m\u001b[0m\u001b[0m\n\u001b[0;32m----> 3\u001b[0;31m \u001b[0mprint\u001b[0m\u001b[0;34m(\u001b[0m\u001b[0mpower\u001b[0m\u001b[0;34m(\u001b[0m\u001b[0;36m5\u001b[0m\u001b[0;34m)\u001b[0m\u001b[0;34m)\u001b[0m\u001b[0;34m\u001b[0m\u001b[0;34m\u001b[0m\u001b[0m\n\u001b[0m",
      "\u001b[0;31mTypeError\u001b[0m: power() missing 1 required positional argument: 'n'"
     ]
    }
   ],
   "source": [
    "# 3.2 默认参数\n",
    "# 这时如果对power函数只输入x的值，会报错告诉我们缺少n的值\n",
    "print(power(5))"
   ]
  },
  {
   "cell_type": "code",
   "execution_count": 30,
   "metadata": {},
   "outputs": [
    {
     "name": "stdout",
     "output_type": "stream",
     "text": [
      "25\n",
      "25\n"
     ]
    }
   ],
   "source": [
    "# 加入我们的n有一个默认值的话，在不传入n的时候，就会按照默认设定来\n",
    "def power(x,n=2):\n",
    "    s = 1\n",
    "    while n > 0:\n",
    "        n = n-1\n",
    "        s = s*x\n",
    "    return s\n",
    "# power(5,2)和power(5)结果是一样的,并且不会报错\n",
    "print(power(5,2))\n",
    "print(power(5))"
   ]
  },
  {
   "cell_type": "code",
   "execution_count": 35,
   "metadata": {},
   "outputs": [
    {
     "name": "stdout",
     "output_type": "stream",
     "text": [
      "name: Sb\n",
      "gender: F\n",
      "age: 6\n",
      "city: BeiJing\n",
      "------------\n",
      "name: Nt\n",
      "gender: M\n",
      "age: 7\n",
      "city: BeiJing\n",
      "------------\n"
     ]
    }
   ],
   "source": [
    "# 默认参数 -> 使得调用函数的复杂减小\n",
    "# 录入入学资料的时候，年龄和城市可以设为默认参数\n",
    "def enroll(name,gender,age = 6,city='BeiJing'):\n",
    "    print('name:',name)\n",
    "    print('gender:',gender)\n",
    "    print('age:',age)\n",
    "    print('city:',city)\n",
    "    return '------------'\n",
    "    \n",
    "print(enroll('Sb','F'))\n",
    "print(enroll('Nt','M',7))"
   ]
  },
  {
   "cell_type": "code",
   "execution_count": 36,
   "metadata": {},
   "outputs": [
    {
     "name": "stdout",
     "output_type": "stream",
     "text": [
      "['END']\n",
      "['END', 'END']\n",
      "['END', 'END', 'END']\n"
     ]
    }
   ],
   "source": [
    "# 易错点\n",
    "def add_end(L=[]):\n",
    "    L.append('END')\n",
    "    return L\n",
    "print(add_end())\n",
    "print(add_end())\n",
    "print(add_end())"
   ]
  },
  {
   "cell_type": "code",
   "execution_count": 37,
   "metadata": {},
   "outputs": [
    {
     "name": "stdout",
     "output_type": "stream",
     "text": [
      "['END']\n",
      "['END']\n"
     ]
    }
   ],
   "source": [
    "# 似乎函数记住了END，在这默认参数L指向了[]，他是一个变量，所以默认参数发生了改变\n",
    "# ！默认参数要用不变对象！\n",
    "def add_end(L=None):\n",
    "    if L is None:\n",
    "        L = []\n",
    "    L.append('END')\n",
    "    return L\n",
    "print(add_end())\n",
    "print(add_end())"
   ]
  },
  {
   "cell_type": "code",
   "execution_count": 38,
   "metadata": {},
   "outputs": [
    {
     "name": "stdout",
     "output_type": "stream",
     "text": [
      "用list传入: 14\n",
      "用tuple传入: 14\n"
     ]
    }
   ],
   "source": [
    "# 3.3 可变参数\n",
    "# 传入的参数数目是可变的\n",
    "# 不用可变参数时，要传入多个数字，需要用list或者tuple传进去\n",
    "def calc(numbers):\n",
    "    sum = 0\n",
    "    for n in numbers:\n",
    "        sum = sum + n * n\n",
    "    return sum\n",
    "print('用list传入:',calc([1,2,3]))\n",
    "print('用tuple传入:',calc((1,2,3)))"
   ]
  },
  {
   "cell_type": "code",
   "execution_count": 41,
   "metadata": {},
   "outputs": [
    {
     "name": "stdout",
     "output_type": "stream",
     "text": [
      "简化了调用过程后： 14\n",
      "甚至可以传入0个参数: 0\n"
     ]
    }
   ],
   "source": [
    "# 同样的函数用可变参数时\n",
    "def calc(*numbers):\n",
    "    sum = 0\n",
    "    for n in numbers:\n",
    "        sum = sum + n * n\n",
    "    return sum\n",
    "print('简化了调用过程后：',calc(1,2,3))\n",
    "print('甚至可以传入0个参数:',calc())"
   ]
  },
  {
   "cell_type": "code",
   "execution_count": 42,
   "metadata": {},
   "outputs": [
    {
     "data": {
      "text/plain": [
       "14"
      ]
     },
     "execution_count": 42,
     "metadata": {},
     "output_type": "execute_result"
    }
   ],
   "source": [
    "# 当已经有list或者tuple的时候，*+list(tuple)变成可变参数\n",
    "nums = [1,2,3]\n",
    "calc(*nums)"
   ]
  },
  {
   "cell_type": "code",
   "execution_count": 45,
   "metadata": {},
   "outputs": [
    {
     "name": "stdout",
     "output_type": "stream",
     "text": [
      "name: SB age: 22 other: {}\n",
      "----------\n",
      "name: SB age: 22 other: {'city': 'GuangZhou'}\n",
      "----------\n",
      "name: SB age: 22 other: {'city': 'GuangZhou', 'job': 'Engineer'}\n",
      "----------\n"
     ]
    }
   ],
   "source": [
    "# 3.4 关键字参数\n",
    "# 可变参数在函数调用的时候组装成tuple，关键字参数也允许0或多个参数名的参数，但会组装成dict，用**\n",
    "def person(name,age,**kw):\n",
    "    print('name:',name,'age:',age,'other:',kw)\n",
    "    return '----------'\n",
    "print(person('SB',22))\n",
    "print(person('SB',22,city='GuangZhou'))\n",
    "print(person('SB',22,city='GuangZhou',job='Engineer'))"
   ]
  },
  {
   "cell_type": "code",
   "execution_count": 46,
   "metadata": {},
   "outputs": [
    {
     "name": "stdout",
     "output_type": "stream",
     "text": [
      "name: Sb age: 22 other: {'city': 'Beijing', 'job': 'Engineer'}\n"
     ]
    },
    {
     "data": {
      "text/plain": [
       "'----------'"
      ]
     },
     "execution_count": 46,
     "metadata": {},
     "output_type": "execute_result"
    }
   ],
   "source": [
    "# 简化调用方法\n",
    "# 先写一个字典\n",
    "extra = {'city':'Beijing','job':'Engineer'}\n",
    "person('Sb',22,**extra)"
   ]
  },
  {
   "cell_type": "code",
   "execution_count": 48,
   "metadata": {},
   "outputs": [
    {
     "name": "stdout",
     "output_type": "stream",
     "text": [
      "SB 22 GuangZhou Engineer\n",
      "----------\n"
     ]
    }
   ],
   "source": [
    "# 3.5 命名关键字参数\n",
    "# 可以限制关键字参数，比如只接收city和job作为关键字参数\n",
    "# 在*之后的都当作关键字参数\n",
    "def person(name,age,*,city,job):\n",
    "    print(name,age,city,job)\n",
    "    return '----------'\n",
    "\n",
    "# 必须传入参数名，否则会报错\n",
    "print(person('SB',22,city='GuangZhou',job='Engineer'))"
   ]
  },
  {
   "cell_type": "code",
   "execution_count": null,
   "metadata": {},
   "outputs": [],
   "source": []
  }
 ],
 "metadata": {
  "kernelspec": {
   "display_name": "Python 3",
   "language": "python",
   "name": "python3"
  },
  "language_info": {
   "codemirror_mode": {
    "name": "ipython",
    "version": 3
   },
   "file_extension": ".py",
   "mimetype": "text/x-python",
   "name": "python",
   "nbconvert_exporter": "python",
   "pygments_lexer": "ipython3",
   "version": "3.7.3"
  }
 },
 "nbformat": 4,
 "nbformat_minor": 2
}
